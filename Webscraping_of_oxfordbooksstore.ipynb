{
 "cells": [
  {
   "cell_type": "markdown",
   "id": "5fceff8f",
   "metadata": {},
   "source": [
    "# Webscraping of Oxfordbooks store"
   ]
  },
  {
   "cell_type": "markdown",
   "id": "d440d9aa",
   "metadata": {},
   "source": [
    "### Project Outline\n",
    "- We are going to scrape https://oxfordbookstore.com/\n",
    "- In this we will get the list of New releases books\n",
    "- For each new releases books we have Book title,Author name,Old price,New price,Product link\n",
    "- After scraping the website we will convert it in csv file format"
   ]
  },
  {
   "cell_type": "markdown",
   "id": "dbbe728c",
   "metadata": {},
   "source": [
    "## USE THE REQUEST LIBRARY TO DOWNLOAD WEBPAGES"
   ]
  },
  {
   "cell_type": "code",
   "execution_count": 1,
   "id": "b4930dc7",
   "metadata": {},
   "outputs": [],
   "source": [
    "import requests"
   ]
  },
  {
   "cell_type": "code",
   "execution_count": 2,
   "id": "48fb1944",
   "metadata": {},
   "outputs": [],
   "source": [
    "topic_url='https://oxfordbookstore.com/list/new-releases?page=1'"
   ]
  },
  {
   "cell_type": "code",
   "execution_count": 3,
   "id": "52e4853e",
   "metadata": {},
   "outputs": [
    {
     "name": "stderr",
     "output_type": "stream",
     "text": [
      "\n",
      "[notice] A new release of pip is available: 23.2.1 -> 24.0\n",
      "[notice] To update, run: python.exe -m pip install --upgrade pip\n"
     ]
    }
   ],
   "source": [
    "!pip install requests --quiet"
   ]
  },
  {
   "cell_type": "code",
   "execution_count": 4,
   "id": "b19d91cd",
   "metadata": {},
   "outputs": [],
   "source": [
    "response = requests.get(topic_url)"
   ]
  },
  {
   "cell_type": "code",
   "execution_count": 5,
   "id": "c210257a",
   "metadata": {},
   "outputs": [
    {
     "data": {
      "text/plain": [
       "200"
      ]
     },
     "execution_count": 5,
     "metadata": {},
     "output_type": "execute_result"
    }
   ],
   "source": [
    "response.status_code"
   ]
  },
  {
   "cell_type": "code",
   "execution_count": 6,
   "id": "7bd15061",
   "metadata": {},
   "outputs": [],
   "source": [
    "page_contents = response.text"
   ]
  },
  {
   "cell_type": "code",
   "execution_count": 7,
   "id": "5bb07c4d",
   "metadata": {},
   "outputs": [
    {
     "data": {
      "text/plain": [
       "'<!DOCTYPE html>\\n<html lang=\"en\">\\n<head>\\n\\t<!-- Required meta tags -->\\n\\t<meta charset=\"utf-8\">\\n\\t\\n\\t<meta name=\"viewport\" content=\"width=device-width, initial-scale=1, shrink-to-fit=no\">\\n\\n\\t\\n\\t\\n\\t\\n\\t<link rel=\"shortcut icon\" href=\"https://oxfordbookstore.com/public/uploads/1667569415_logo.jpg\" type=\"image/x-icon\">\\n    <title>New Releases | Oxford Bookstore</title>\\n\\t<link href=\"https://oxfordbookstore.com/public/customResource/apeejay-frontend/font-awesome-4.7.0/css/font-awesome.css\" rel=\"stylesheet\"> \\n\\t\\n\\t<link href=\"https://oxfordbookstore.com/public/customResource/apeejay-frontend/css/bootstrap.css\" rel=\"stylesheet\">\\n\\t<link href=\"https://oxfordbookstore.com/public/customResource/apeejay-frontend/css/style.css\" rel=\"stylesheet\">\\n\\t<link href=\"https://oxfordbookstore.com/public/customResource/apeejay-frontend/css/responsive.css\" rel=\"stylesheet\">\\n\\t<link href=\"https://oxfordbookstore.com/public/customResource/apeejay-frontend/fonts/stylesheet.css\" rel=\"stylesheet\">\\n\\t<link href=\"https://oxfordbook'"
      ]
     },
     "execution_count": 7,
     "metadata": {},
     "output_type": "execute_result"
    }
   ],
   "source": [
    "page_contents[:1000]"
   ]
  },
  {
   "cell_type": "code",
   "execution_count": 8,
   "id": "7aa5159e",
   "metadata": {},
   "outputs": [],
   "source": [
    "with open('oxfordbooks.html', 'w', encoding='utf-8') as f:\n",
    "    f.write(page_contents)"
   ]
  },
  {
   "cell_type": "markdown",
   "id": "52f90e25",
   "metadata": {},
   "source": [
    "## USE BEAUTIFUL SOUP TO PARSE AND EXTRACT INFORMATION"
   ]
  },
  {
   "cell_type": "code",
   "execution_count": 9,
   "id": "14c7bdbc",
   "metadata": {},
   "outputs": [
    {
     "name": "stderr",
     "output_type": "stream",
     "text": [
      "\n",
      "[notice] A new release of pip is available: 23.2.1 -> 24.0\n",
      "[notice] To update, run: python.exe -m pip install --upgrade pip\n"
     ]
    }
   ],
   "source": [
    "!pip install beautifulsoup4 --upgrade --quiet"
   ]
  },
  {
   "cell_type": "code",
   "execution_count": 10,
   "id": "0fc60eee",
   "metadata": {},
   "outputs": [],
   "source": [
    "from bs4 import BeautifulSoup"
   ]
  },
  {
   "cell_type": "code",
   "execution_count": 11,
   "id": "c0ff96f3",
   "metadata": {},
   "outputs": [],
   "source": [
    "soup = BeautifulSoup(page_contents,'html.parser')"
   ]
  },
  {
   "cell_type": "code",
   "execution_count": 12,
   "id": "8458ddb0",
   "metadata": {},
   "outputs": [
    {
     "name": "stdout",
     "output_type": "stream",
     "text": [
      "32\n",
      "['The World after Apu Satyajit...', 'Lost In The Love Maze', 'Mehrunissa', 'Krishna', 'SAME AS EVER', 'COOL', 'Rouge', 'Becoming Gandhi', 'The Day I Became a Runner', 'Kismat Connection', 'Mind Management, Not Time Ma...', 'To Love & Be Loved', 'The Harry Potter Wizarding A...', 'Diary of a Wimpy Kid', 'The Happiness Story : Unlock...', 'Humans', 'How Prime Ministers Decide', \"India's Experiment with Demo...\", 'MODI: The Challenge of 2024', 'Another Sort of Freedom: A M...', 'Greek Gods, Monsters and Her...', 'Roman Stories', 'Fintech For Billions: Simple...', 'A Bird on My Windowsill', 'Traitors Gate', 'Common Yet Uncommon: 14 Memo...', \"Sakina's Kiss\", 'A House of Rain and Snow', 'Before We Say Goodbye', \"World's Best Girlfriend\", 'Idols: Unearthing the Power ...', '1947-1957, India: The Birth ...']\n"
     ]
    }
   ],
   "source": [
    "#creating a list to contain books title\n",
    "book_title = []\n",
    "for title in soup.find_all('div', class_='product-describe'):\n",
    "    book_title.append(title.h3.text)\n",
    "\n",
    "# Print the list of job titles\n",
    "print(len(book_title))\n",
    "print(book_title)"
   ]
  },
  {
   "cell_type": "code",
   "execution_count": 13,
   "id": "ac9174b4",
   "metadata": {},
   "outputs": [
    {
     "name": "stdout",
     "output_type": "stream",
     "text": [
      "32\n",
      "['Swapan Mullick', 'MUKUL KUMAR', 'ANAND NAYAK', 'Kevin Missal', 'Morgan Housel', 'Swapan Seth', 'Mona Awad', 'Perry Garfinkel', 'Sohini Chattopadhyay', 'ANANYA DEVRANJAN', 'DAVID KADAVY', 'JIM TOWEY', 'JK ROWLING', 'Jeff Kinney', 'Savi Sharma', 'Serjio Almeciga', 'NEERJA CHOWDHURY', 'SY QURAISHI', 'MINHAZ MERCHANT', 'Gurcharan Das', 'Devdutt Pattanaik', 'Jhumpa Lahiri', 'Anas Ahmed\\n                                                                                            Bhagwan Chowdhry', 'Manav Kaul', 'Jeffrey Archer', 'Sudha Murty', 'Vivek Shanbhag\\n                                                                                            Srinath Perur', 'Srijato', 'Toshikazu Kawaguchi', 'Durjoy Datta', 'Amish Tripathi\\n                                                                                            Bhavna Roy', 'Chandrachur Ghose']\n"
     ]
    }
   ],
   "source": [
    "#creating a list to contain Author names\n",
    "author_names = []\n",
    "\n",
    "for name in soup.find_all('div', class_='product-describe'):\n",
    "    author_text = name.h5.text.strip()\n",
    "    \n",
    "    # Extract only the author name (remove \"Book Author:\")\n",
    "    fullauthor_name = author_text.replace(\"Book Author:\", \"\").strip()\n",
    "    \n",
    "    author_names.append(fullauthor_name)\n",
    "\n",
    "# Print the cleaned list of author names\n",
    "print(len(author_names))\n",
    "print(author_names)\n"
   ]
  },
  {
   "cell_type": "code",
   "execution_count": 14,
   "id": "c25ab47b",
   "metadata": {},
   "outputs": [
    {
     "name": "stdout",
     "output_type": "stream",
     "text": [
      "32\n",
      "['499.00', '325.00', '599.00', '399.00', '450.00', '999.00', '799.00', '699.00', '599.00', '299.00', '499.00', '599.00', '1599.00', '599.00', '299.00', '999.00', '999.00', '699.00', '899.00', '699.00', '299.00', '499.00', '499.00', '499.00', '499.00', '399.00', '499.00', '399.00', '550.00', '199.00', '399.00', '799.00']\n"
     ]
    }
   ],
   "source": [
    "#importing re library to support and manipulate regular expressions\n",
    "import re\n",
    "\n",
    "oldbook_prices = []\n",
    "newbook_prices = []\n",
    "for price in soup.find_all('div', class_='price'):\n",
    "    price_text = price.text.strip()\n",
    "    \n",
    "    # Use regular expression to capture old and new prices\n",
    "    match = re.match(r'₹([\\d,.]+)\\n₹([\\d,.]+)', price_text)\n",
    "    \n",
    "    if match:\n",
    "        new_price = match.group(1).strip()\n",
    "        old_price = match.group(2).strip()\n",
    "        \n",
    "        newbook_prices.append(\n",
    "             new_price)\n",
    "        oldbook_prices.append(\n",
    "             old_price)\n",
    "    else:\n",
    "        # Handle the case where the format does not match\n",
    "        print(f\"Unable to extract old and new prices from: {price_text}\")\n",
    "\n",
    "# Print the list of old book prices\n",
    "print(len(oldbook_prices))\n",
    "print(oldbook_prices)"
   ]
  },
  {
   "cell_type": "code",
   "execution_count": 15,
   "id": "b56f99a9",
   "metadata": {},
   "outputs": [
    {
     "name": "stdout",
     "output_type": "stream",
     "text": [
      "32\n",
      "['399', '260', '479', '319', '360', '799', '639', '559', '479', '239', '399', '479', '1279', '479', '239', '799', '799', '559', '719', '559', '239', '399', '399', '399', '399', '319', '399', '319', '440', '159', '319', '639']\n"
     ]
    }
   ],
   "source": [
    "# Print the list of new book prices\n",
    "print(len(newbook_prices))\n",
    "print(newbook_prices)"
   ]
  },
  {
   "cell_type": "code",
   "execution_count": 16,
   "id": "47a0c2bf",
   "metadata": {},
   "outputs": [
    {
     "name": "stdout",
     "output_type": "stream",
     "text": [
      "32\n",
      "['https://oxfordbookstore.com/product-details/the-world-after-apu-satyajit-ray-in-retrospect-3574', 'https://oxfordbookstore.com/product-details/lost-in-the-love-maze-0008', 'https://oxfordbookstore.com/product-details/mehrunissa-3108', 'https://oxfordbookstore.com/product-details/krishna-3680', 'https://oxfordbookstore.com/product-details/same-as-ever-5026', 'https://oxfordbookstore.com/product-details/cool-0723', 'https://oxfordbookstore.com/product-details/rouge-5383', 'https://oxfordbookstore.com/product-details/becoming-gandhi-5054', 'https://oxfordbookstore.com/product-details/the-day-i-became-a-runner-7578', 'https://oxfordbookstore.com/product-details/kismat-connection-6721', 'https://oxfordbookstore.com/product-details/mind-management-not-time-management-4708', 'https://oxfordbookstore.com/product-details/to-love--be-loved-8787', 'https://oxfordbookstore.com/product-details/the-harry-potter-wizarding-almanac-7292', 'https://oxfordbookstore.com/product-details/diary-of-a-wimpy-kid-9884', 'https://oxfordbookstore.com/product-details/the-happiness-story--unlocking-the-secrets-to-living-your-best-life-3687', 'https://oxfordbookstore.com/product-details/humans-8367', 'https://oxfordbookstore.com/product-details/how-prime-ministers-decide-4735', 'https://oxfordbookstore.com/product-details/indias-experiment-with-democracy-5659', 'https://oxfordbookstore.com/product-details/modi-the-challenge-of-2024-0214', 'https://oxfordbookstore.com/product-details/another-sort-of-freedom-a-memoir-6134', 'https://oxfordbookstore.com/product-details/greek-gods-monsters-and-heroes-9248', 'https://oxfordbookstore.com/product-details/roman-stories-8964', 'https://oxfordbookstore.com/product-details/fintech-for-billions-simple--human--ubiquitous-2521', 'https://oxfordbookstore.com/product-details/a-bird-on-my-windowsill-9215', 'https://oxfordbookstore.com/product-details/traitors-gate-4204', 'https://oxfordbookstore.com/product-details/common-yet-uncommon-14-memorable-stories-from-daily-life-7736', 'https://oxfordbookstore.com/product-details/sakinas-kiss-3476', 'https://oxfordbookstore.com/product-details/a-house-of-rain-and-snow-8624', 'https://oxfordbookstore.com/product-details/before-we-say-goodbye-9823', 'https://oxfordbookstore.com/product-details/worlds-best-girlfriend-9731', 'https://oxfordbookstore.com/product-details/idols-unearthing-the-power-of-murti-puja-1461', 'https://oxfordbookstore.com/product-details/1947-1957-india-the-birth-of-a-republic-8158']\n"
     ]
    }
   ],
   "source": [
    "#Find all 'a' tags with the specified class and get the value of the \"href\" attribute for each\n",
    "product_link=[]\n",
    "for url in soup.find_all('a',class_='book-img'):\n",
    "    product_url=url.get('href')\n",
    "    product_link.append(product_url)\n",
    "print(len(product_link))\n",
    "# Print the list of links\n",
    "print(product_link)"
   ]
  },
  {
   "cell_type": "code",
   "execution_count": 17,
   "id": "f67e6106",
   "metadata": {},
   "outputs": [],
   "source": [
    "import pandas as pd"
   ]
  },
  {
   "cell_type": "code",
   "execution_count": 18,
   "id": "f9867994",
   "metadata": {},
   "outputs": [],
   "source": [
    "#creating a dictionary\n",
    "new_releases_dict={\n",
    "    'books_title':book_title,\n",
    "    'author_name':author_names,\n",
    "    'old_price':oldbook_prices,\n",
    "    'new_price':newbook_prices,\n",
    "    'product_link':product_link\n",
    "}"
   ]
  },
  {
   "cell_type": "code",
   "execution_count": 19,
   "id": "84828e84",
   "metadata": {},
   "outputs": [
    {
     "data": {
      "text/html": [
       "<div>\n",
       "<style scoped>\n",
       "    .dataframe tbody tr th:only-of-type {\n",
       "        vertical-align: middle;\n",
       "    }\n",
       "\n",
       "    .dataframe tbody tr th {\n",
       "        vertical-align: top;\n",
       "    }\n",
       "\n",
       "    .dataframe thead th {\n",
       "        text-align: right;\n",
       "    }\n",
       "</style>\n",
       "<table border=\"1\" class=\"dataframe\">\n",
       "  <thead>\n",
       "    <tr style=\"text-align: right;\">\n",
       "      <th></th>\n",
       "      <th>books_title</th>\n",
       "      <th>author_name</th>\n",
       "      <th>old_price</th>\n",
       "      <th>new_price</th>\n",
       "      <th>product_link</th>\n",
       "    </tr>\n",
       "  </thead>\n",
       "  <tbody>\n",
       "    <tr>\n",
       "      <th>0</th>\n",
       "      <td>The World after Apu Satyajit...</td>\n",
       "      <td>Swapan Mullick</td>\n",
       "      <td>499.00</td>\n",
       "      <td>399</td>\n",
       "      <td>https://oxfordbookstore.com/product-details/th...</td>\n",
       "    </tr>\n",
       "    <tr>\n",
       "      <th>1</th>\n",
       "      <td>Lost In The Love Maze</td>\n",
       "      <td>MUKUL KUMAR</td>\n",
       "      <td>325.00</td>\n",
       "      <td>260</td>\n",
       "      <td>https://oxfordbookstore.com/product-details/lo...</td>\n",
       "    </tr>\n",
       "    <tr>\n",
       "      <th>2</th>\n",
       "      <td>Mehrunissa</td>\n",
       "      <td>ANAND NAYAK</td>\n",
       "      <td>599.00</td>\n",
       "      <td>479</td>\n",
       "      <td>https://oxfordbookstore.com/product-details/me...</td>\n",
       "    </tr>\n",
       "    <tr>\n",
       "      <th>3</th>\n",
       "      <td>Krishna</td>\n",
       "      <td>Kevin Missal</td>\n",
       "      <td>399.00</td>\n",
       "      <td>319</td>\n",
       "      <td>https://oxfordbookstore.com/product-details/kr...</td>\n",
       "    </tr>\n",
       "    <tr>\n",
       "      <th>4</th>\n",
       "      <td>SAME AS EVER</td>\n",
       "      <td>Morgan Housel</td>\n",
       "      <td>450.00</td>\n",
       "      <td>360</td>\n",
       "      <td>https://oxfordbookstore.com/product-details/sa...</td>\n",
       "    </tr>\n",
       "    <tr>\n",
       "      <th>5</th>\n",
       "      <td>COOL</td>\n",
       "      <td>Swapan Seth</td>\n",
       "      <td>999.00</td>\n",
       "      <td>799</td>\n",
       "      <td>https://oxfordbookstore.com/product-details/co...</td>\n",
       "    </tr>\n",
       "    <tr>\n",
       "      <th>6</th>\n",
       "      <td>Rouge</td>\n",
       "      <td>Mona Awad</td>\n",
       "      <td>799.00</td>\n",
       "      <td>639</td>\n",
       "      <td>https://oxfordbookstore.com/product-details/ro...</td>\n",
       "    </tr>\n",
       "    <tr>\n",
       "      <th>7</th>\n",
       "      <td>Becoming Gandhi</td>\n",
       "      <td>Perry Garfinkel</td>\n",
       "      <td>699.00</td>\n",
       "      <td>559</td>\n",
       "      <td>https://oxfordbookstore.com/product-details/be...</td>\n",
       "    </tr>\n",
       "    <tr>\n",
       "      <th>8</th>\n",
       "      <td>The Day I Became a Runner</td>\n",
       "      <td>Sohini Chattopadhyay</td>\n",
       "      <td>599.00</td>\n",
       "      <td>479</td>\n",
       "      <td>https://oxfordbookstore.com/product-details/th...</td>\n",
       "    </tr>\n",
       "    <tr>\n",
       "      <th>9</th>\n",
       "      <td>Kismat Connection</td>\n",
       "      <td>ANANYA DEVRANJAN</td>\n",
       "      <td>299.00</td>\n",
       "      <td>239</td>\n",
       "      <td>https://oxfordbookstore.com/product-details/ki...</td>\n",
       "    </tr>\n",
       "    <tr>\n",
       "      <th>10</th>\n",
       "      <td>Mind Management, Not Time Ma...</td>\n",
       "      <td>DAVID KADAVY</td>\n",
       "      <td>499.00</td>\n",
       "      <td>399</td>\n",
       "      <td>https://oxfordbookstore.com/product-details/mi...</td>\n",
       "    </tr>\n",
       "    <tr>\n",
       "      <th>11</th>\n",
       "      <td>To Love &amp; Be Loved</td>\n",
       "      <td>JIM TOWEY</td>\n",
       "      <td>599.00</td>\n",
       "      <td>479</td>\n",
       "      <td>https://oxfordbookstore.com/product-details/to...</td>\n",
       "    </tr>\n",
       "    <tr>\n",
       "      <th>12</th>\n",
       "      <td>The Harry Potter Wizarding A...</td>\n",
       "      <td>JK ROWLING</td>\n",
       "      <td>1599.00</td>\n",
       "      <td>1279</td>\n",
       "      <td>https://oxfordbookstore.com/product-details/th...</td>\n",
       "    </tr>\n",
       "    <tr>\n",
       "      <th>13</th>\n",
       "      <td>Diary of a Wimpy Kid</td>\n",
       "      <td>Jeff Kinney</td>\n",
       "      <td>599.00</td>\n",
       "      <td>479</td>\n",
       "      <td>https://oxfordbookstore.com/product-details/di...</td>\n",
       "    </tr>\n",
       "    <tr>\n",
       "      <th>14</th>\n",
       "      <td>The Happiness Story : Unlock...</td>\n",
       "      <td>Savi Sharma</td>\n",
       "      <td>299.00</td>\n",
       "      <td>239</td>\n",
       "      <td>https://oxfordbookstore.com/product-details/th...</td>\n",
       "    </tr>\n",
       "    <tr>\n",
       "      <th>15</th>\n",
       "      <td>Humans</td>\n",
       "      <td>Serjio Almeciga</td>\n",
       "      <td>999.00</td>\n",
       "      <td>799</td>\n",
       "      <td>https://oxfordbookstore.com/product-details/hu...</td>\n",
       "    </tr>\n",
       "    <tr>\n",
       "      <th>16</th>\n",
       "      <td>How Prime Ministers Decide</td>\n",
       "      <td>NEERJA CHOWDHURY</td>\n",
       "      <td>999.00</td>\n",
       "      <td>799</td>\n",
       "      <td>https://oxfordbookstore.com/product-details/ho...</td>\n",
       "    </tr>\n",
       "    <tr>\n",
       "      <th>17</th>\n",
       "      <td>India's Experiment with Demo...</td>\n",
       "      <td>SY QURAISHI</td>\n",
       "      <td>699.00</td>\n",
       "      <td>559</td>\n",
       "      <td>https://oxfordbookstore.com/product-details/in...</td>\n",
       "    </tr>\n",
       "    <tr>\n",
       "      <th>18</th>\n",
       "      <td>MODI: The Challenge of 2024</td>\n",
       "      <td>MINHAZ MERCHANT</td>\n",
       "      <td>899.00</td>\n",
       "      <td>719</td>\n",
       "      <td>https://oxfordbookstore.com/product-details/mo...</td>\n",
       "    </tr>\n",
       "    <tr>\n",
       "      <th>19</th>\n",
       "      <td>Another Sort of Freedom: A M...</td>\n",
       "      <td>Gurcharan Das</td>\n",
       "      <td>699.00</td>\n",
       "      <td>559</td>\n",
       "      <td>https://oxfordbookstore.com/product-details/an...</td>\n",
       "    </tr>\n",
       "    <tr>\n",
       "      <th>20</th>\n",
       "      <td>Greek Gods, Monsters and Her...</td>\n",
       "      <td>Devdutt Pattanaik</td>\n",
       "      <td>299.00</td>\n",
       "      <td>239</td>\n",
       "      <td>https://oxfordbookstore.com/product-details/gr...</td>\n",
       "    </tr>\n",
       "    <tr>\n",
       "      <th>21</th>\n",
       "      <td>Roman Stories</td>\n",
       "      <td>Jhumpa Lahiri</td>\n",
       "      <td>499.00</td>\n",
       "      <td>399</td>\n",
       "      <td>https://oxfordbookstore.com/product-details/ro...</td>\n",
       "    </tr>\n",
       "    <tr>\n",
       "      <th>22</th>\n",
       "      <td>Fintech For Billions: Simple...</td>\n",
       "      <td>Anas Ahmed\\n                                  ...</td>\n",
       "      <td>499.00</td>\n",
       "      <td>399</td>\n",
       "      <td>https://oxfordbookstore.com/product-details/fi...</td>\n",
       "    </tr>\n",
       "    <tr>\n",
       "      <th>23</th>\n",
       "      <td>A Bird on My Windowsill</td>\n",
       "      <td>Manav Kaul</td>\n",
       "      <td>499.00</td>\n",
       "      <td>399</td>\n",
       "      <td>https://oxfordbookstore.com/product-details/a-...</td>\n",
       "    </tr>\n",
       "    <tr>\n",
       "      <th>24</th>\n",
       "      <td>Traitors Gate</td>\n",
       "      <td>Jeffrey Archer</td>\n",
       "      <td>499.00</td>\n",
       "      <td>399</td>\n",
       "      <td>https://oxfordbookstore.com/product-details/tr...</td>\n",
       "    </tr>\n",
       "    <tr>\n",
       "      <th>25</th>\n",
       "      <td>Common Yet Uncommon: 14 Memo...</td>\n",
       "      <td>Sudha Murty</td>\n",
       "      <td>399.00</td>\n",
       "      <td>319</td>\n",
       "      <td>https://oxfordbookstore.com/product-details/co...</td>\n",
       "    </tr>\n",
       "    <tr>\n",
       "      <th>26</th>\n",
       "      <td>Sakina's Kiss</td>\n",
       "      <td>Vivek Shanbhag\\n                              ...</td>\n",
       "      <td>499.00</td>\n",
       "      <td>399</td>\n",
       "      <td>https://oxfordbookstore.com/product-details/sa...</td>\n",
       "    </tr>\n",
       "    <tr>\n",
       "      <th>27</th>\n",
       "      <td>A House of Rain and Snow</td>\n",
       "      <td>Srijato</td>\n",
       "      <td>399.00</td>\n",
       "      <td>319</td>\n",
       "      <td>https://oxfordbookstore.com/product-details/a-...</td>\n",
       "    </tr>\n",
       "    <tr>\n",
       "      <th>28</th>\n",
       "      <td>Before We Say Goodbye</td>\n",
       "      <td>Toshikazu Kawaguchi</td>\n",
       "      <td>550.00</td>\n",
       "      <td>440</td>\n",
       "      <td>https://oxfordbookstore.com/product-details/be...</td>\n",
       "    </tr>\n",
       "    <tr>\n",
       "      <th>29</th>\n",
       "      <td>World's Best Girlfriend</td>\n",
       "      <td>Durjoy Datta</td>\n",
       "      <td>199.00</td>\n",
       "      <td>159</td>\n",
       "      <td>https://oxfordbookstore.com/product-details/wo...</td>\n",
       "    </tr>\n",
       "    <tr>\n",
       "      <th>30</th>\n",
       "      <td>Idols: Unearthing the Power ...</td>\n",
       "      <td>Amish Tripathi\\n                              ...</td>\n",
       "      <td>399.00</td>\n",
       "      <td>319</td>\n",
       "      <td>https://oxfordbookstore.com/product-details/id...</td>\n",
       "    </tr>\n",
       "    <tr>\n",
       "      <th>31</th>\n",
       "      <td>1947-1957, India: The Birth ...</td>\n",
       "      <td>Chandrachur Ghose</td>\n",
       "      <td>799.00</td>\n",
       "      <td>639</td>\n",
       "      <td>https://oxfordbookstore.com/product-details/19...</td>\n",
       "    </tr>\n",
       "  </tbody>\n",
       "</table>\n",
       "</div>"
      ],
      "text/plain": [
       "                        books_title  \\\n",
       "0   The World after Apu Satyajit...   \n",
       "1             Lost In The Love Maze   \n",
       "2                        Mehrunissa   \n",
       "3                           Krishna   \n",
       "4                      SAME AS EVER   \n",
       "5                              COOL   \n",
       "6                             Rouge   \n",
       "7                   Becoming Gandhi   \n",
       "8         The Day I Became a Runner   \n",
       "9                 Kismat Connection   \n",
       "10  Mind Management, Not Time Ma...   \n",
       "11               To Love & Be Loved   \n",
       "12  The Harry Potter Wizarding A...   \n",
       "13             Diary of a Wimpy Kid   \n",
       "14  The Happiness Story : Unlock...   \n",
       "15                           Humans   \n",
       "16       How Prime Ministers Decide   \n",
       "17  India's Experiment with Demo...   \n",
       "18      MODI: The Challenge of 2024   \n",
       "19  Another Sort of Freedom: A M...   \n",
       "20  Greek Gods, Monsters and Her...   \n",
       "21                    Roman Stories   \n",
       "22  Fintech For Billions: Simple...   \n",
       "23          A Bird on My Windowsill   \n",
       "24                    Traitors Gate   \n",
       "25  Common Yet Uncommon: 14 Memo...   \n",
       "26                    Sakina's Kiss   \n",
       "27         A House of Rain and Snow   \n",
       "28            Before We Say Goodbye   \n",
       "29          World's Best Girlfriend   \n",
       "30  Idols: Unearthing the Power ...   \n",
       "31  1947-1957, India: The Birth ...   \n",
       "\n",
       "                                          author_name old_price new_price  \\\n",
       "0                                      Swapan Mullick    499.00       399   \n",
       "1                                         MUKUL KUMAR    325.00       260   \n",
       "2                                         ANAND NAYAK    599.00       479   \n",
       "3                                        Kevin Missal    399.00       319   \n",
       "4                                       Morgan Housel    450.00       360   \n",
       "5                                         Swapan Seth    999.00       799   \n",
       "6                                           Mona Awad    799.00       639   \n",
       "7                                     Perry Garfinkel    699.00       559   \n",
       "8                                Sohini Chattopadhyay    599.00       479   \n",
       "9                                    ANANYA DEVRANJAN    299.00       239   \n",
       "10                                       DAVID KADAVY    499.00       399   \n",
       "11                                          JIM TOWEY    599.00       479   \n",
       "12                                         JK ROWLING   1599.00      1279   \n",
       "13                                        Jeff Kinney    599.00       479   \n",
       "14                                        Savi Sharma    299.00       239   \n",
       "15                                    Serjio Almeciga    999.00       799   \n",
       "16                                   NEERJA CHOWDHURY    999.00       799   \n",
       "17                                        SY QURAISHI    699.00       559   \n",
       "18                                    MINHAZ MERCHANT    899.00       719   \n",
       "19                                      Gurcharan Das    699.00       559   \n",
       "20                                  Devdutt Pattanaik    299.00       239   \n",
       "21                                      Jhumpa Lahiri    499.00       399   \n",
       "22  Anas Ahmed\\n                                  ...    499.00       399   \n",
       "23                                         Manav Kaul    499.00       399   \n",
       "24                                     Jeffrey Archer    499.00       399   \n",
       "25                                        Sudha Murty    399.00       319   \n",
       "26  Vivek Shanbhag\\n                              ...    499.00       399   \n",
       "27                                            Srijato    399.00       319   \n",
       "28                                Toshikazu Kawaguchi    550.00       440   \n",
       "29                                       Durjoy Datta    199.00       159   \n",
       "30  Amish Tripathi\\n                              ...    399.00       319   \n",
       "31                                  Chandrachur Ghose    799.00       639   \n",
       "\n",
       "                                         product_link  \n",
       "0   https://oxfordbookstore.com/product-details/th...  \n",
       "1   https://oxfordbookstore.com/product-details/lo...  \n",
       "2   https://oxfordbookstore.com/product-details/me...  \n",
       "3   https://oxfordbookstore.com/product-details/kr...  \n",
       "4   https://oxfordbookstore.com/product-details/sa...  \n",
       "5   https://oxfordbookstore.com/product-details/co...  \n",
       "6   https://oxfordbookstore.com/product-details/ro...  \n",
       "7   https://oxfordbookstore.com/product-details/be...  \n",
       "8   https://oxfordbookstore.com/product-details/th...  \n",
       "9   https://oxfordbookstore.com/product-details/ki...  \n",
       "10  https://oxfordbookstore.com/product-details/mi...  \n",
       "11  https://oxfordbookstore.com/product-details/to...  \n",
       "12  https://oxfordbookstore.com/product-details/th...  \n",
       "13  https://oxfordbookstore.com/product-details/di...  \n",
       "14  https://oxfordbookstore.com/product-details/th...  \n",
       "15  https://oxfordbookstore.com/product-details/hu...  \n",
       "16  https://oxfordbookstore.com/product-details/ho...  \n",
       "17  https://oxfordbookstore.com/product-details/in...  \n",
       "18  https://oxfordbookstore.com/product-details/mo...  \n",
       "19  https://oxfordbookstore.com/product-details/an...  \n",
       "20  https://oxfordbookstore.com/product-details/gr...  \n",
       "21  https://oxfordbookstore.com/product-details/ro...  \n",
       "22  https://oxfordbookstore.com/product-details/fi...  \n",
       "23  https://oxfordbookstore.com/product-details/a-...  \n",
       "24  https://oxfordbookstore.com/product-details/tr...  \n",
       "25  https://oxfordbookstore.com/product-details/co...  \n",
       "26  https://oxfordbookstore.com/product-details/sa...  \n",
       "27  https://oxfordbookstore.com/product-details/a-...  \n",
       "28  https://oxfordbookstore.com/product-details/be...  \n",
       "29  https://oxfordbookstore.com/product-details/wo...  \n",
       "30  https://oxfordbookstore.com/product-details/id...  \n",
       "31  https://oxfordbookstore.com/product-details/19...  "
      ]
     },
     "execution_count": 19,
     "metadata": {},
     "output_type": "execute_result"
    }
   ],
   "source": [
    "#converting in csv format\n",
    "new_releases_books=pd.DataFrame(new_releases_dict)\n",
    "new_releases_books"
   ]
  },
  {
   "cell_type": "code",
   "execution_count": 65,
   "id": "2fc1bc24",
   "metadata": {},
   "outputs": [],
   "source": [
    "new_releases_books.to_csv('new_releases_books.csv')"
   ]
  },
  {
   "cell_type": "code",
   "execution_count": null,
   "id": "90e2b140",
   "metadata": {},
   "outputs": [],
   "source": []
  }
 ],
 "metadata": {
  "kernelspec": {
   "display_name": "Python 3 (ipykernel)",
   "language": "python",
   "name": "python3"
  },
  "language_info": {
   "codemirror_mode": {
    "name": "ipython",
    "version": 3
   },
   "file_extension": ".py",
   "mimetype": "text/x-python",
   "name": "python",
   "nbconvert_exporter": "python",
   "pygments_lexer": "ipython3",
   "version": "3.11.3"
  }
 },
 "nbformat": 4,
 "nbformat_minor": 5
}
